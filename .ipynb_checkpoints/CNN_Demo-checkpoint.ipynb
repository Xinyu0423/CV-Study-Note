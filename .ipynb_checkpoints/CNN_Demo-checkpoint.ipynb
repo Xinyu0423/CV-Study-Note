{
 "cells": [
  {
   "cell_type": "code",
   "execution_count": 4,
   "id": "715af8d7",
   "metadata": {},
   "outputs": [
    {
     "ename": "ModuleNotFoundError",
     "evalue": "No module named 'matplotlib'",
     "output_type": "error",
     "traceback": [
      "\u001b[0;31m---------------------------------------------------------------------------\u001b[0m",
      "\u001b[0;31mModuleNotFoundError\u001b[0m                       Traceback (most recent call last)",
      "Cell \u001b[0;32mIn[4], line 9\u001b[0m\n\u001b[1;32m      7\u001b[0m \u001b[38;5;28;01mimport\u001b[39;00m \u001b[38;5;21;01mnumpy\u001b[39;00m \u001b[38;5;28;01mas\u001b[39;00m \u001b[38;5;21;01mnp\u001b[39;00m\n\u001b[1;32m      8\u001b[0m \u001b[38;5;28;01mimport\u001b[39;00m \u001b[38;5;21;01mpandas\u001b[39;00m \u001b[38;5;28;01mas\u001b[39;00m \u001b[38;5;21;01mpd\u001b[39;00m\n\u001b[0;32m----> 9\u001b[0m \u001b[38;5;28;01mimport\u001b[39;00m \u001b[38;5;21;01mmatplotlib\u001b[39;00m\u001b[38;5;21;01m.\u001b[39;00m\u001b[38;5;21;01mpyplot\u001b[39;00m \u001b[38;5;28;01mas\u001b[39;00m \u001b[38;5;21;01mplt\u001b[39;00m\n",
      "\u001b[0;31mModuleNotFoundError\u001b[0m: No module named 'matplotlib'"
     ]
    }
   ],
   "source": [
    "import tensorflow as tf\n",
    "import sys\n",
    "from tensorflow import keras\n",
    "from keras.datasets import mnist\n",
    "from sklearn.model_selection import train_test_split\n",
    "from sklearn.preprocessing import StandardScaler\n",
    "import numpy as np\n",
    "import pandas as pd\n",
    "import matplotlib.pyplot as plt"
   ]
  },
  {
   "cell_type": "code",
   "execution_count": null,
   "id": "09f62c58",
   "metadata": {},
   "outputs": [],
   "source": [
    "# print(sys.version)\n",
    "\n",
    "# print(tf.__version__)\n",
    "# c=tf.constant(10)\n",
    "# print(c)\n",
    "\n",
    "# c1=tf.constant([1,2,3])\n",
    "# print(c1)\n",
    "\n",
    "# c2=tf.constant([[1.,2.,3.],[4.,5.,6.]])\n",
    "# print(c2)\n",
    "\n",
    "# print(\"cut 1\",c2[:,-1])\n",
    "# print(\"cut 2\",c2[:-1])\n",
    "\n",
    "# print(\"second number\",c2[...,0])\n",
    "\n",
    "# c3=c2+tf.cast(c,dtype=tf.float32)\n",
    "# print(c3)\n"
   ]
  },
  {
   "cell_type": "code",
   "execution_count": null,
   "id": "69a2fe6a",
   "metadata": {},
   "outputs": [],
   "source": [
    "(x_train, y_train), (x_test, y_test)=mnist.load_data()\n",
    "\n",
    "print(x_train.shape, y_train.shape, x_test.shape, y_test.shape)\n",
    "\n",
    "x_train_real, x_valid, y_train_real, y_valid=train_test_split(x_train, y_train, test_size=0.2)\n",
    "print(x_train_real.shape)\n",
    "\n",
    "scaler=StandardScaler()\n",
    "x_train_scaled=scaler.fit_transform(x_train_real.reshape(-1,1)).reshape(-1,28,28)\n",
    "x_valid_scaled=scaler.transform(x_valid.reshape(-1,1)).reshape(-1,28,28)\n",
    "x_test_scaled=scaler.transform(x_test.reshape(-1,1)).reshape(-1,28,28)"
   ]
  },
  {
   "cell_type": "code",
   "execution_count": null,
   "id": "8ff89e75",
   "metadata": {},
   "outputs": [],
   "source": [
    "x_train=np.expand_dims(x_train_scaled,-1)\n",
    "x_valid=np.expand_dims(x_valid_scaled,-1)\n",
    "x_test=np.expand_dims(x_test_scaled,-1)\n",
    "print(x_train.shape)"
   ]
  },
  {
   "cell_type": "code",
   "execution_count": null,
   "id": "76063c58",
   "metadata": {},
   "outputs": [],
   "source": [
    "model=keras.models.Sequential([\n",
    "    keras.Input(shape=(28,28,1)),\n",
    "    keras.layers.Conv2D(32, kernel_size=(3,3), activation='relu'),\n",
    "    keras.layers.MaxPooling2D(pool_size=(2,2)),\n",
    "    keras.layers.Flatten(),\n",
    "    keras.layers.Dropout(0.3),\n",
    "    keras.layers.Dense(10,activation='softmax')\n",
    "])"
   ]
  },
  {
   "cell_type": "code",
   "execution_count": null,
   "id": "85a544ac",
   "metadata": {},
   "outputs": [],
   "source": [
    "model.compile(loss='sparse_categorical_crossentropy', optimizer ='adam', metrics=['accuracy'])\n",
    "model.summary()"
   ]
  },
  {
   "cell_type": "code",
   "execution_count": null,
   "id": "b2bbdd8f",
   "metadata": {},
   "outputs": [],
   "source": [
    "keras.utils.plot_model(model,show_shapes=True)"
   ]
  },
  {
   "cell_type": "code",
   "execution_count": null,
   "id": "3f23a55b",
   "metadata": {},
   "outputs": [],
   "source": [
    "history=model.fit(x_train_scaled, y_train_real, epochs=10, validation_data=(x_valid_scaled, y_valid))"
   ]
  },
  {
   "cell_type": "code",
   "execution_count": null,
   "id": "ff04a51e",
   "metadata": {},
   "outputs": [],
   "source": [
    "print(history.history)"
   ]
  },
  {
   "cell_type": "code",
   "execution_count": null,
   "id": "77a2c9d6",
   "metadata": {},
   "outputs": [],
   "source": [
    "pd.DataFrame(history.history).plot(figsize(8,5))\n",
    "plt.grid(True)\n",
    "plt.gca().set_ylim(0,1)\n",
    "plt.show()"
   ]
  },
  {
   "cell_type": "code",
   "execution_count": null,
   "id": "22ee7f84",
   "metadata": {},
   "outputs": [],
   "source": [
    "model.evaluate(x_test, y_test)\n"
   ]
  },
  {
   "cell_type": "code",
   "execution_count": null,
   "id": "957b0349",
   "metadata": {},
   "outputs": [],
   "source": [
    "probility_model=tf.keras.Sequential([model,])\n"
   ]
  },
  {
   "cell_type": "code",
   "execution_count": null,
   "id": "0cc578be",
   "metadata": {},
   "outputs": [],
   "source": [
    "img=x_test_scaled[0]\n",
    "print(img.shape)\n",
    "\n",
    "img=np.expand_dims(img, 0)\n",
    "predictions_single_img=probility_model(img)\n"
   ]
  },
  {
   "cell_type": "code",
   "execution_count": null,
   "id": "7be9fd6a",
   "metadata": {},
   "outputs": [],
   "source": [
    "res=np.argmax(predictions_single_img[0])\n",
    "print(res, y_test[0])"
   ]
  },
  {
   "cell_type": "code",
   "execution_count": null,
   "id": "9e24c7e8",
   "metadata": {},
   "outputs": [],
   "source": []
  }
 ],
 "metadata": {
  "kernelspec": {
   "display_name": "Python 3 (ipykernel)",
   "language": "python",
   "name": "python3"
  },
  "language_info": {
   "codemirror_mode": {
    "name": "ipython",
    "version": 3
   },
   "file_extension": ".py",
   "mimetype": "text/x-python",
   "name": "python",
   "nbconvert_exporter": "python",
   "pygments_lexer": "ipython3",
   "version": "3.10.10"
  }
 },
 "nbformat": 4,
 "nbformat_minor": 5
}
