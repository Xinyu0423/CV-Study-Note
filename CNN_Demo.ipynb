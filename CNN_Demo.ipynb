{
 "cells": [
  {
   "cell_type": "code",
   "execution_count": 3,
   "id": "715af8d7",
   "metadata": {},
   "outputs": [
    {
     "data": {
      "text/html": [
       "<pre style=\"white-space:pre;overflow-x:auto;line-height:normal;font-family:Menlo,'DejaVu Sans Mono',consolas,'Courier New',monospace\">Note: NumExpr detected 10 cores but \"NUMEXPR_MAX_THREADS\" not set, so enforcing safe limit of 8.\n",
       "</pre>\n"
      ],
      "text/plain": [
       "Note: NumExpr detected 10 cores but \"NUMEXPR_MAX_THREADS\" not set, so enforcing safe limit of 8.\n"
      ]
     },
     "metadata": {},
     "output_type": "display_data"
    },
    {
     "data": {
      "text/html": [
       "<pre style=\"white-space:pre;overflow-x:auto;line-height:normal;font-family:Menlo,'DejaVu Sans Mono',consolas,'Courier New',monospace\">NumExpr defaulting to 8 threads.\n",
       "</pre>\n"
      ],
      "text/plain": [
       "NumExpr defaulting to 8 threads.\n"
      ]
     },
     "metadata": {},
     "output_type": "display_data"
    }
   ],
   "source": [
    "import tensorflow as tf\n",
    "import sys\n",
    "from tensorflow import keras\n",
    "from keras.datasets import mnist\n",
    "from sklearn.model_selection import train_test_split\n",
    "from sklearn.preprocessing import StandardScaler\n",
    "import numpy as np\n",
    "import pandas as pd\n",
    "import matplotlib.pyplot as plt"
   ]
  },
  {
   "cell_type": "code",
   "execution_count": 4,
   "id": "09f62c58",
   "metadata": {},
   "outputs": [],
   "source": [
    "# print(sys.version)\n",
    "\n",
    "# print(tf.__version__)\n",
    "# c=tf.constant(10)\n",
    "# print(c)\n",
    "\n",
    "# c1=tf.constant([1,2,3])\n",
    "# print(c1)\n",
    "\n",
    "# c2=tf.constant([[1.,2.,3.],[4.,5.,6.]])\n",
    "# print(c2)\n",
    "\n",
    "# print(\"cut 1\",c2[:,-1])\n",
    "# print(\"cut 2\",c2[:-1])\n",
    "\n",
    "# print(\"second number\",c2[...,0])\n",
    "\n",
    "# c3=c2+tf.cast(c,dtype=tf.float32)\n",
    "# print(c3)\n"
   ]
  },
  {
   "cell_type": "code",
   "execution_count": 5,
   "id": "fe8241e9",
   "metadata": {},
   "outputs": [
    {
     "data": {
      "text/plain": [
       "['/Users/jiangxinyu/Desktop/CV-Study-Note',\n",
       " '/Users/jiangxinyu/miniforge3/lib/python310.zip',\n",
       " '/Users/jiangxinyu/miniforge3/lib/python3.10',\n",
       " '/Users/jiangxinyu/miniforge3/lib/python3.10/lib-dynload',\n",
       " '',\n",
       " '/Users/jiangxinyu/miniforge3/lib/python3.10/site-packages']"
      ]
     },
     "execution_count": 5,
     "metadata": {},
     "output_type": "execute_result"
    }
   ],
   "source": [
    "import sys\n",
    "sys.path"
   ]
  },
  {
   "cell_type": "code",
   "execution_count": 30,
   "id": "f7c09296",
   "metadata": {},
   "outputs": [],
   "source": [
    "# import pip\n",
    "\n",
    "# def install(package):\n",
    "#     pip.main(['install', package])\n",
    "\n",
    "# install('pydot')"
   ]
  },
  {
   "cell_type": "code",
   "execution_count": 25,
   "id": "69a2fe6a",
   "metadata": {},
   "outputs": [
    {
     "name": "stdout",
     "output_type": "stream",
     "text": [
      "(60000, 28, 28) (60000,) (10000, 28, 28) (10000,)\n",
      "(48000, 28, 28)\n"
     ]
    }
   ],
   "source": [
    "(x_train, y_train), (x_test, y_test)=mnist.load_data()\n",
    "\n",
    "print(x_train.shape, y_train.shape, x_test.shape, y_test.shape)\n",
    "\n",
    "x_train_real, x_valid, y_train_real, y_valid=train_test_split(x_train, y_train, test_size=0.2)\n",
    "print(x_train_real.shape)\n",
    "\n",
    "scaler=StandardScaler()\n",
    "x_train_scaled=scaler.fit_transform(x_train_real.reshape(-1,1)).reshape(-1,28,28)\n",
    "x_valid_scaled=scaler.transform(x_valid.reshape(-1,1)).reshape(-1,28,28)\n",
    "x_test_scaled=scaler.transform(x_test.reshape(-1,1)).reshape(-1,28,28)"
   ]
  },
  {
   "cell_type": "code",
   "execution_count": 26,
   "id": "8ff89e75",
   "metadata": {},
   "outputs": [
    {
     "name": "stdout",
     "output_type": "stream",
     "text": [
      "(48000, 28, 28, 1)\n"
     ]
    }
   ],
   "source": [
    "x_train=np.expand_dims(x_train_scaled,-1)\n",
    "x_valid=np.expand_dims(x_valid_scaled,-1)\n",
    "x_test=np.expand_dims(x_test_scaled,-1)\n",
    "print(x_train.shape)"
   ]
  },
  {
   "cell_type": "code",
   "execution_count": 27,
   "id": "76063c58",
   "metadata": {},
   "outputs": [],
   "source": [
    "model=keras.models.Sequential([\n",
    "    keras.Input(shape=(28,28,1)),\n",
    "    keras.layers.Conv2D(32, kernel_size=(3,3), activation='relu'),\n",
    "    keras.layers.MaxPooling2D(pool_size=(2,2)),\n",
    "    keras.layers.Flatten(),\n",
    "    keras.layers.Dropout(0.3),\n",
    "    keras.layers.Dense(10,activation='softmax')\n",
    "])"
   ]
  },
  {
   "cell_type": "code",
   "execution_count": 28,
   "id": "85a544ac",
   "metadata": {},
   "outputs": [
    {
     "name": "stdout",
     "output_type": "stream",
     "text": [
      "Model: \"sequential_2\"\n",
      "_________________________________________________________________\n",
      " Layer (type)                Output Shape              Param #   \n",
      "=================================================================\n",
      " conv2d_1 (Conv2D)           (None, 26, 26, 32)        320       \n",
      "                                                                 \n",
      " max_pooling2d_1 (MaxPooling  (None, 13, 13, 32)       0         \n",
      " 2D)                                                             \n",
      "                                                                 \n",
      " flatten_1 (Flatten)         (None, 5408)              0         \n",
      "                                                                 \n",
      " dropout_1 (Dropout)         (None, 5408)              0         \n",
      "                                                                 \n",
      " dense_1 (Dense)             (None, 10)                54090     \n",
      "                                                                 \n",
      "=================================================================\n",
      "Total params: 54,410\n",
      "Trainable params: 54,410\n",
      "Non-trainable params: 0\n",
      "_________________________________________________________________\n"
     ]
    }
   ],
   "source": [
    "model.compile(loss='sparse_categorical_crossentropy', optimizer ='adam', metrics=['accuracy'])\n",
    "model.summary()"
   ]
  },
  {
   "cell_type": "code",
   "execution_count": 29,
   "id": "b2bbdd8f",
   "metadata": {},
   "outputs": [
    {
     "name": "stdout",
     "output_type": "stream",
     "text": [
      "You must install pydot (`pip install pydot`) and install graphviz (see instructions at https://graphviz.gitlab.io/download/) for plot_model to work.\n"
     ]
    }
   ],
   "source": [
    "keras.utils.plot_model(model,show_shapes=True)"
   ]
  },
  {
   "cell_type": "code",
   "execution_count": 13,
   "id": "3f23a55b",
   "metadata": {},
   "outputs": [
    {
     "name": "stdout",
     "output_type": "stream",
     "text": [
      "Epoch 1/10\n",
      "1500/1500 [==============================] - 12s 8ms/step - loss: 0.0280 - accuracy: 0.9907 - val_loss: 0.0478 - val_accuracy: 0.9848\n",
      "Epoch 2/10\n",
      "1500/1500 [==============================] - 11s 8ms/step - loss: 0.0261 - accuracy: 0.9910 - val_loss: 0.0515 - val_accuracy: 0.9853\n",
      "Epoch 3/10\n",
      "1500/1500 [==============================] - 11s 8ms/step - loss: 0.0230 - accuracy: 0.9922 - val_loss: 0.0548 - val_accuracy: 0.9853\n",
      "Epoch 4/10\n",
      "1500/1500 [==============================] - 11s 8ms/step - loss: 0.0213 - accuracy: 0.9928 - val_loss: 0.0492 - val_accuracy: 0.9859\n",
      "Epoch 5/10\n",
      "1500/1500 [==============================] - 12s 8ms/step - loss: 0.0200 - accuracy: 0.9935 - val_loss: 0.0491 - val_accuracy: 0.9866\n",
      "Epoch 6/10\n",
      "1500/1500 [==============================] - 12s 8ms/step - loss: 0.0197 - accuracy: 0.9933 - val_loss: 0.0508 - val_accuracy: 0.9859\n",
      "Epoch 7/10\n",
      "1500/1500 [==============================] - 11s 8ms/step - loss: 0.0184 - accuracy: 0.9938 - val_loss: 0.0527 - val_accuracy: 0.9860\n",
      "Epoch 8/10\n",
      "1500/1500 [==============================] - 11s 8ms/step - loss: 0.0167 - accuracy: 0.9942 - val_loss: 0.0526 - val_accuracy: 0.9862\n",
      "Epoch 9/10\n",
      "1500/1500 [==============================] - 11s 8ms/step - loss: 0.0182 - accuracy: 0.9937 - val_loss: 0.0579 - val_accuracy: 0.9839\n",
      "Epoch 10/10\n",
      "1500/1500 [==============================] - 11s 8ms/step - loss: 0.0141 - accuracy: 0.9949 - val_loss: 0.0570 - val_accuracy: 0.9846\n"
     ]
    }
   ],
   "source": [
    "history=model.fit(x_train_scaled, y_train_real, epochs=10, validation_data=(x_valid_scaled, y_valid))"
   ]
  },
  {
   "cell_type": "code",
   "execution_count": 14,
   "id": "ff04a51e",
   "metadata": {},
   "outputs": [
    {
     "name": "stdout",
     "output_type": "stream",
     "text": [
      "{'loss': [0.028036419302225113, 0.026062361896038055, 0.023035362362861633, 0.02126498706638813, 0.02001149393618107, 0.01969141885638237, 0.018421489745378494, 0.016685647889971733, 0.018153181299567223, 0.014123926870524883], 'accuracy': [0.9907083511352539, 0.9909791350364685, 0.9921666383743286, 0.9928125143051147, 0.9935207962989807, 0.9933333396911621, 0.9937916398048401, 0.9942499995231628, 0.9937499761581421, 0.9949374794960022], 'val_loss': [0.04781134054064751, 0.05148597061634064, 0.05476928502321243, 0.049232251942157745, 0.049124911427497864, 0.0507698580622673, 0.05273442715406418, 0.052639443427324295, 0.05787516385316849, 0.056989800184965134], 'val_accuracy': [0.984833300113678, 0.9853333234786987, 0.9853333234786987, 0.9859166741371155, 0.9865833520889282, 0.9859166741371155, 0.9860000014305115, 0.9862499833106995, 0.9839166402816772, 0.98458331823349]}\n"
     ]
    }
   ],
   "source": [
    "print(history.history)"
   ]
  },
  {
   "cell_type": "code",
   "execution_count": 18,
   "id": "77a2c9d6",
   "metadata": {},
   "outputs": [
    {
     "data": {
      "image/png": "[encoded data removed]",
      "text/plain": [
       "<Figure size 800x500 with 1 Axes>"
      ]
     },
     "metadata": {},
     "output_type": "display_data"
    }
   ],
   "source": [
    "pd.DataFrame(history.history).plot(figsize=(8,5))\n",
    "plt.grid(True)\n",
    "plt.gca().set_ylim(0,1)\n",
    "plt.show()"
   ]
  },
  {
   "cell_type": "code",
   "execution_count": 19,
   "id": "22ee7f84",
   "metadata": {},
   "outputs": [
    {
     "name": "stdout",
     "output_type": "stream",
     "text": [
      "313/313 [==============================] - 2s 5ms/step - loss: 0.0662 - accuracy: 0.9839\n"
     ]
    },
    {
     "data": {
      "text/plain": [
       "[0.06621897965669632, 0.9839000701904297]"
      ]
     },
     "execution_count": 19,
     "metadata": {},
     "output_type": "execute_result"
    }
   ],
   "source": [
    "model.evaluate(x_test, y_test)\n"
   ]
  },
  {
   "cell_type": "code",
   "execution_count": 20,
   "id": "957b0349",
   "metadata": {},
   "outputs": [],
   "source": [
    "probility_model=tf.keras.Sequential([model,])\n"
   ]
  },
  {
   "cell_type": "code",
   "execution_count": 21,
   "id": "0cc578be",
   "metadata": {},
   "outputs": [
    {
     "name": "stdout",
     "output_type": "stream",
     "text": [
      "(28, 28)\n"
     ]
    }
   ],
   "source": [
    "img=x_test_scaled[0]\n",
    "print(img.shape)\n",
    "\n",
    "img=np.expand_dims(img, 0)\n",
    "predictions_single_img=probility_model(img)\n"
   ]
  },
  {
   "cell_type": "code",
   "execution_count": 22,
   "id": "7be9fd6a",
   "metadata": {},
   "outputs": [
    {
     "name": "stdout",
     "output_type": "stream",
     "text": [
      "7 7\n"
     ]
    }
   ],
   "source": [
    "res=np.argmax(predictions_single_img[0])\n",
    "print(res, y_test[0])"
   ]
  },
  {
   "cell_type": "code",
   "execution_count": null,
   "id": "9e24c7e8",
   "metadata": {},
   "outputs": [],
   "source": []
  }
 ],
 "metadata": {
  "kernelspec": {
   "display_name": "Python 3 (ipykernel)",
   "language": "python",
   "name": "python3"
  },
  "language_info": {
   "codemirror_mode": {
    "name": "ipython",
    "version": 3
   },
   "file_extension": ".py",
   "mimetype": "text/x-python",
   "name": "python",
   "nbconvert_exporter": "python",
   "pygments_lexer": "ipython3",
   "version": "3.10.10"
  }
 },
 "nbformat": 4,
 "nbformat_minor": 5
}
